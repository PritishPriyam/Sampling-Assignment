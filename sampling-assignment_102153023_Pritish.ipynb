{
 "cells": [
  {
   "cell_type": "code",
   "execution_count": 1,
   "id": "951e5885",
   "metadata": {
    "_cell_guid": "b1076dfc-b9ad-4769-8c92-a6c4dae69d19",
    "_uuid": "8f2839f25d086af736a60e9eeb907d3b93b6e0e5",
    "execution": {
     "iopub.execute_input": "2024-02-03T16:01:46.849924Z",
     "iopub.status.busy": "2024-02-03T16:01:46.848261Z",
     "iopub.status.idle": "2024-02-03T16:01:50.524338Z",
     "shell.execute_reply": "2024-02-03T16:01:50.522572Z"
    },
    "papermill": {
     "duration": 3.6897,
     "end_time": "2024-02-03T16:01:50.528220",
     "exception": false,
     "start_time": "2024-02-03T16:01:46.838520",
     "status": "completed"
    },
    "tags": []
   },
   "outputs": [],
   "source": [
    "from imblearn.over_sampling import SMOTE\n",
    "from sklearn.model_selection import train_test_split\n",
    "from imblearn.under_sampling import NearMiss\n",
    "from sklearn.ensemble import RandomForestClassifier\n",
    "from sklearn.svm import SVC\n",
    "from sklearn.model_selection import train_test_split\n",
    "from sklearn.linear_model import LogisticRegression\n",
    "import warnings\n",
    "from sklearn.metrics import accuracy_score\n",
    "warnings.filterwarnings(\"ignore\")\n",
    "\n",
    "import pandas as pd\n",
    "import matplotlib.pyplot as plt\n",
    "import seaborn as sns"
   ]
  },
  {
   "cell_type": "code",
   "execution_count": 2,
   "id": "ef3412e7",
   "metadata": {
    "execution": {
     "iopub.execute_input": "2024-02-03T16:01:50.544913Z",
     "iopub.status.busy": "2024-02-03T16:01:50.544280Z",
     "iopub.status.idle": "2024-02-03T16:01:50.583074Z",
     "shell.execute_reply": "2024-02-03T16:01:50.581720Z"
    },
    "papermill": {
     "duration": 0.050617,
     "end_time": "2024-02-03T16:01:50.586405",
     "exception": false,
     "start_time": "2024-02-03T16:01:50.535788",
     "status": "completed"
    },
    "tags": []
   },
   "outputs": [],
   "source": [
    "df = pd.read_csv('/kaggle/input/credit-card/Creditcard_data.csv')"
   ]
  },
  {
   "cell_type": "code",
   "execution_count": 3,
   "id": "fa59b011",
   "metadata": {
    "execution": {
     "iopub.execute_input": "2024-02-03T16:01:50.602407Z",
     "iopub.status.busy": "2024-02-03T16:01:50.601986Z",
     "iopub.status.idle": "2024-02-03T16:01:50.700945Z",
     "shell.execute_reply": "2024-02-03T16:01:50.699886Z"
    },
    "papermill": {
     "duration": 0.110948,
     "end_time": "2024-02-03T16:01:50.704510",
     "exception": false,
     "start_time": "2024-02-03T16:01:50.593562",
     "status": "completed"
    },
    "tags": []
   },
   "outputs": [],
   "source": [
    "X = df.drop('Class', axis=1)\n",
    "y = df['Class']\n",
    "\n",
    "# Split the data into training and testing sets\n",
    "X_train, X_test, y_train, y_test = train_test_split(X, y, test_size=0.2, random_state=42)\n",
    "\n",
    "smote = SMOTE(sampling_strategy='auto', random_state=42)\n",
    "X_train_resampled, y_train_resampled = smote.fit_resample(X_train, y_train)"
   ]
  },
  {
   "cell_type": "code",
   "execution_count": 4,
   "id": "c691eae0",
   "metadata": {
    "execution": {
     "iopub.execute_input": "2024-02-03T16:01:50.722591Z",
     "iopub.status.busy": "2024-02-03T16:01:50.720951Z",
     "iopub.status.idle": "2024-02-03T16:01:50.729733Z",
     "shell.execute_reply": "2024-02-03T16:01:50.728591Z"
    },
    "papermill": {
     "duration": 0.020811,
     "end_time": "2024-02-03T16:01:50.733171",
     "exception": false,
     "start_time": "2024-02-03T16:01:50.712360",
     "status": "completed"
    },
    "tags": []
   },
   "outputs": [],
   "source": [
    "df = pd.concat([X_train,y_train],axis = 1)"
   ]
  },
  {
   "cell_type": "code",
   "execution_count": 5,
   "id": "57a6f7c1",
   "metadata": {
    "execution": {
     "iopub.execute_input": "2024-02-03T16:01:50.750478Z",
     "iopub.status.busy": "2024-02-03T16:01:50.749469Z",
     "iopub.status.idle": "2024-02-03T16:01:50.760274Z",
     "shell.execute_reply": "2024-02-03T16:01:50.759236Z"
    },
    "papermill": {
     "duration": 0.023214,
     "end_time": "2024-02-03T16:01:50.763245",
     "exception": false,
     "start_time": "2024-02-03T16:01:50.740031",
     "status": "completed"
    },
    "tags": []
   },
   "outputs": [],
   "source": [
    "fraudulent1 = df[df['Class'] == 1]\n",
    "non_fraudulent1 = df[df['Class'] == 0].sample(n=len(fraudulent1), random_state=42)\n",
    "\n",
    "balanced_data_random_under = pd.concat([fraudulent1, non_fraudulent1])"
   ]
  },
  {
   "cell_type": "code",
   "execution_count": 6,
   "id": "f02fa4c3",
   "metadata": {
    "execution": {
     "iopub.execute_input": "2024-02-03T16:01:50.780109Z",
     "iopub.status.busy": "2024-02-03T16:01:50.778825Z",
     "iopub.status.idle": "2024-02-03T16:01:50.789635Z",
     "shell.execute_reply": "2024-02-03T16:01:50.788631Z"
    },
    "papermill": {
     "duration": 0.022507,
     "end_time": "2024-02-03T16:01:50.792583",
     "exception": false,
     "start_time": "2024-02-03T16:01:50.770076",
     "status": "completed"
    },
    "tags": []
   },
   "outputs": [],
   "source": [
    "fraudulent2 = df[df['Class'] == 1]\n",
    "non_fraudulent2 = df[df['Class'] == 0]\n",
    "\n",
    "fraudulent_over = fraudulent2.sample(n=len(non_fraudulent2), replace=True, random_state=42)\n",
    "\n",
    "balanced_data_random_over = pd.concat([fraudulent_over, non_fraudulent2])"
   ]
  },
  {
   "cell_type": "code",
   "execution_count": 7,
   "id": "2cb63ab6",
   "metadata": {
    "execution": {
     "iopub.execute_input": "2024-02-03T16:01:50.809096Z",
     "iopub.status.busy": "2024-02-03T16:01:50.808234Z",
     "iopub.status.idle": "2024-02-03T16:01:50.836508Z",
     "shell.execute_reply": "2024-02-03T16:01:50.835369Z"
    },
    "papermill": {
     "duration": 0.040441,
     "end_time": "2024-02-03T16:01:50.839802",
     "exception": false,
     "start_time": "2024-02-03T16:01:50.799361",
     "status": "completed"
    },
    "tags": []
   },
   "outputs": [],
   "source": [
    "X = df.drop('Class', axis=1)\n",
    "y = df['Class']\n",
    "\n",
    "nm = NearMiss(sampling_strategy='auto')\n",
    "X_resampled, y_resampled = nm.fit_resample(X, y)\n",
    "\n",
    "balanced_data_nearmiss = pd.concat([pd.DataFrame(X_resampled, columns=X.columns), pd.Series(y_resampled, name='Class')], axis=1)"
   ]
  },
  {
   "cell_type": "code",
   "execution_count": 8,
   "id": "6d0885da",
   "metadata": {
    "execution": {
     "iopub.execute_input": "2024-02-03T16:01:50.858964Z",
     "iopub.status.busy": "2024-02-03T16:01:50.858022Z",
     "iopub.status.idle": "2024-02-03T16:01:50.883316Z",
     "shell.execute_reply": "2024-02-03T16:01:50.882259Z"
    },
    "papermill": {
     "duration": 0.038438,
     "end_time": "2024-02-03T16:01:50.886459",
     "exception": false,
     "start_time": "2024-02-03T16:01:50.848021",
     "status": "completed"
    },
    "tags": []
   },
   "outputs": [],
   "source": [
    "from imblearn.over_sampling import SMOTE\n",
    "\n",
    "X = df.drop('Class', axis=1)\n",
    "y = df['Class']\n",
    "\n",
    "smote = SMOTE(sampling_strategy='auto', random_state=42)\n",
    "X_resampled, y_resampled = smote.fit_resample(X, y)\n",
    "\n",
    "balanced_data_smote = pd.concat([pd.DataFrame(X_resampled, columns=X.columns), pd.Series(y_resampled, name='Class')], axis=1)"
   ]
  },
  {
   "cell_type": "code",
   "execution_count": 9,
   "id": "8e3ed03d",
   "metadata": {
    "execution": {
     "iopub.execute_input": "2024-02-03T16:01:50.903561Z",
     "iopub.status.busy": "2024-02-03T16:01:50.902683Z",
     "iopub.status.idle": "2024-02-03T16:01:50.948031Z",
     "shell.execute_reply": "2024-02-03T16:01:50.946919Z"
    },
    "papermill": {
     "duration": 0.05744,
     "end_time": "2024-02-03T16:01:50.951194",
     "exception": false,
     "start_time": "2024-02-03T16:01:50.893754",
     "status": "completed"
    },
    "tags": []
   },
   "outputs": [],
   "source": [
    "from imblearn.combine import SMOTEENN\n",
    "\n",
    "X = df.drop('Class', axis=1)\n",
    "y = df['Class']\n",
    "\n",
    "smoteenn = SMOTEENN(sampling_strategy='auto', random_state=42)\n",
    "X_resampled, y_resampled = smoteenn.fit_resample(X, y)\n",
    "\n",
    "balanced_data_smoteenn = pd.concat([pd.DataFrame(X_resampled, columns=X.columns), pd.Series(y_resampled, name='Class')], axis=1)\n"
   ]
  },
  {
   "cell_type": "code",
   "execution_count": 10,
   "id": "da6592eb",
   "metadata": {
    "execution": {
     "iopub.execute_input": "2024-02-03T16:01:50.968851Z",
     "iopub.status.busy": "2024-02-03T16:01:50.967919Z",
     "iopub.status.idle": "2024-02-03T16:01:50.975994Z",
     "shell.execute_reply": "2024-02-03T16:01:50.974191Z"
    },
    "papermill": {
     "duration": 0.021122,
     "end_time": "2024-02-03T16:01:50.979416",
     "exception": false,
     "start_time": "2024-02-03T16:01:50.958294",
     "status": "completed"
    },
    "tags": []
   },
   "outputs": [],
   "source": [
    "# Feature columns and target column\n",
    "X_cols = df.columns[:-1]  # Assuming the last column is the target column\n",
    "y_col = 'Class'\n",
    "\n",
    "# Initialize the model\n",
    "model = LogisticRegression(random_state=42)\n",
    "\n",
    "# List to store accuracy scores for each technique\n",
    "accuracy_scores = []\n"
   ]
  },
  {
   "cell_type": "code",
   "execution_count": 11,
   "id": "b6ce3350",
   "metadata": {
    "execution": {
     "iopub.execute_input": "2024-02-03T16:01:50.995714Z",
     "iopub.status.busy": "2024-02-03T16:01:50.995275Z",
     "iopub.status.idle": "2024-02-03T16:01:51.024508Z",
     "shell.execute_reply": "2024-02-03T16:01:51.023322Z"
    },
    "papermill": {
     "duration": 0.042082,
     "end_time": "2024-02-03T16:01:51.028384",
     "exception": false,
     "start_time": "2024-02-03T16:01:50.986302",
     "status": "completed"
    },
    "tags": []
   },
   "outputs": [],
   "source": [
    "from imblearn.over_sampling import SMOTE\n",
    "\n",
    "X = df.drop('Class', axis=1)\n",
    "y = df['Class']\n",
    "\n",
    "smote = SMOTE(sampling_strategy='auto', random_state=42)\n",
    "X_resampled, y_resampled = smote.fit_resample(X, y)\n",
    "\n",
    "balanced_data_smote = pd.concat([pd.DataFrame(X_resampled, columns=X.columns), pd.Series(y_resampled, name='Class')], axis=1)"
   ]
  },
  {
   "cell_type": "code",
   "execution_count": 12,
   "id": "aff7b7be",
   "metadata": {
    "execution": {
     "iopub.execute_input": "2024-02-03T16:01:51.045976Z",
     "iopub.status.busy": "2024-02-03T16:01:51.045381Z",
     "iopub.status.idle": "2024-02-03T16:01:51.087380Z",
     "shell.execute_reply": "2024-02-03T16:01:51.086209Z"
    },
    "papermill": {
     "duration": 0.054243,
     "end_time": "2024-02-03T16:01:51.090501",
     "exception": false,
     "start_time": "2024-02-03T16:01:51.036258",
     "status": "completed"
    },
    "tags": []
   },
   "outputs": [],
   "source": [
    "from imblearn.combine import SMOTEENN\n",
    "\n",
    "X = df.drop('Class', axis=1)\n",
    "y = df['Class']\n",
    "\n",
    "smoteenn = SMOTEENN(sampling_strategy='auto', random_state=42)\n",
    "X_resampled, y_resampled = smoteenn.fit_resample(X, y)\n",
    "\n",
    "balanced_data_smoteenn = pd.concat([pd.DataFrame(X_resampled, columns=X.columns), pd.Series(y_resampled, name='Class')], axis=1)"
   ]
  },
  {
   "cell_type": "code",
   "execution_count": 13,
   "id": "894ae9ba",
   "metadata": {
    "execution": {
     "iopub.execute_input": "2024-02-03T16:01:51.107737Z",
     "iopub.status.busy": "2024-02-03T16:01:51.106613Z",
     "iopub.status.idle": "2024-02-03T16:01:51.477876Z",
     "shell.execute_reply": "2024-02-03T16:01:51.476213Z"
    },
    "papermill": {
     "duration": 0.385748,
     "end_time": "2024-02-03T16:01:51.483640",
     "exception": false,
     "start_time": "2024-02-03T16:01:51.097892",
     "status": "completed"
    },
    "tags": []
   },
   "outputs": [
    {
     "name": "stdout",
     "output_type": "stream",
     "text": [
      "Accuracy for Sampling Technique 1: 0.75\n",
      "Accuracy for Sampling Technique 2: 0.9344262295081968\n",
      "Accuracy for Sampling Technique 3: 0.25\n",
      "Accuracy for Sampling Technique 4: 0.9659090909090909\n",
      "Accuracy for Sampling Technique 5: 0.9221311475409836\n"
     ]
    }
   ],
   "source": [
    "# Iterate over each balanced dataset\n",
    "for balanced_data in [balanced_data_random_under, balanced_data_random_over, balanced_data_nearmiss,balanced_data_smoteenn,balanced_data_smote]:\n",
    "    # Split the data into features and target\n",
    "    X_balanced = balanced_data[X_cols]\n",
    "    y_balanced = balanced_data[y_col]\n",
    "\n",
    "    # Split the data into training and testing sets\n",
    "    X_train, X_test, y_train, y_test = train_test_split(X_balanced, y_balanced, test_size=0.2, random_state=42)\n",
    "\n",
    "    # Train the model\n",
    "    model.fit(X_train, y_train)\n",
    "\n",
    "    # Make predictions on the testing set\n",
    "    y_pred = model.predict(X_test)\n",
    "\n",
    "    # Calculate accuracy and store it in the list\n",
    "    accuracy = accuracy_score(y_test, y_pred)\n",
    "    accuracy_scores.append(accuracy)\n",
    "\n",
    "# Display the accuracy scores for each sampling technique\n",
    "for i, score in enumerate(accuracy_scores):\n",
    "    print(f\"Accuracy for Sampling Technique {i + 1}: {score}\")"
   ]
  },
  {
   "cell_type": "code",
   "execution_count": 14,
   "id": "b8fd4554",
   "metadata": {
    "execution": {
     "iopub.execute_input": "2024-02-03T16:01:51.520105Z",
     "iopub.status.busy": "2024-02-03T16:01:51.519366Z",
     "iopub.status.idle": "2024-02-03T16:01:51.527421Z",
     "shell.execute_reply": "2024-02-03T16:01:51.525862Z"
    },
    "papermill": {
     "duration": 0.03316,
     "end_time": "2024-02-03T16:01:51.536318",
     "exception": false,
     "start_time": "2024-02-03T16:01:51.503158",
     "status": "completed"
    },
    "tags": []
   },
   "outputs": [],
   "source": [
    "X_cols = df.columns[:-1]  # Assuming the last column is the target column\n",
    "y_col = 'Class'\n"
   ]
  },
  {
   "cell_type": "code",
   "execution_count": 15,
   "id": "745ccd6d",
   "metadata": {
    "execution": {
     "iopub.execute_input": "2024-02-03T16:01:51.579174Z",
     "iopub.status.busy": "2024-02-03T16:01:51.578460Z",
     "iopub.status.idle": "2024-02-03T16:01:51.587636Z",
     "shell.execute_reply": "2024-02-03T16:01:51.586027Z"
    },
    "papermill": {
     "duration": 0.042684,
     "end_time": "2024-02-03T16:01:51.593341",
     "exception": false,
     "start_time": "2024-02-03T16:01:51.550657",
     "status": "completed"
    },
    "tags": []
   },
   "outputs": [],
   "source": [
    "classifiers = {\n",
    "    'Logistic Regression': LogisticRegression(random_state=42),\n",
    "    'Random Forest': RandomForestClassifier(random_state=42),\n",
    "    'SVM': SVC(random_state=42)\n",
    "}"
   ]
  },
  {
   "cell_type": "code",
   "execution_count": 16,
   "id": "2cb7849c",
   "metadata": {
    "execution": {
     "iopub.execute_input": "2024-02-03T16:01:51.621514Z",
     "iopub.status.busy": "2024-02-03T16:01:51.620911Z",
     "iopub.status.idle": "2024-02-03T16:01:54.147815Z",
     "shell.execute_reply": "2024-02-03T16:01:54.146226Z"
    },
    "papermill": {
     "duration": 2.549983,
     "end_time": "2024-02-03T16:01:54.151444",
     "exception": false,
     "start_time": "2024-02-03T16:01:51.601461",
     "status": "completed"
    },
    "tags": []
   },
   "outputs": [
    {
     "name": "stdout",
     "output_type": "stream",
     "text": [
      "\n",
      "Results for Logistic Regression:\n",
      "Accuracy for Sampling Technique 1: 0.75\n",
      "Accuracy for Sampling Technique 2: 0.9344262295081968\n",
      "Accuracy for Sampling Technique 3: 0.25\n",
      "Accuracy for Sampling Technique 4: 0.9659090909090909\n",
      "Accuracy for Sampling Technique 5: 0.9221311475409836\n",
      "\n",
      "Results for Random Forest:\n",
      "Accuracy for Sampling Technique 1: 0.5\n",
      "Accuracy for Sampling Technique 2: 1.0\n",
      "Accuracy for Sampling Technique 3: 0.75\n",
      "Accuracy for Sampling Technique 4: 0.9943181818181818\n",
      "Accuracy for Sampling Technique 5: 0.9959016393442623\n",
      "\n",
      "Results for SVM:\n",
      "Accuracy for Sampling Technique 1: 0.75\n",
      "Accuracy for Sampling Technique 2: 0.7295081967213115\n",
      "Accuracy for Sampling Technique 3: 0.25\n",
      "Accuracy for Sampling Technique 4: 0.7613636363636364\n",
      "Accuracy for Sampling Technique 5: 0.680327868852459\n",
      "             Classifier Sampling Technique  Accuracy\n",
      "0   Logistic Regression        Technique 1  0.750000\n",
      "1   Logistic Regression        Technique 2  0.934426\n",
      "2   Logistic Regression        Technique 3  0.250000\n",
      "3   Logistic Regression        Technique 4  0.965909\n",
      "4   Logistic Regression        Technique 5  0.922131\n",
      "5         Random Forest        Technique 1  0.500000\n",
      "6         Random Forest        Technique 2  1.000000\n",
      "7         Random Forest        Technique 3  0.750000\n",
      "8         Random Forest        Technique 4  0.994318\n",
      "9         Random Forest        Technique 5  0.995902\n",
      "10                  SVM        Technique 1  0.750000\n",
      "11                  SVM        Technique 2  0.729508\n",
      "12                  SVM        Technique 3  0.250000\n",
      "13                  SVM        Technique 4  0.761364\n",
      "14                  SVM        Technique 5  0.680328\n"
     ]
    }
   ],
   "source": [
    "results_list = []\n",
    "for clf_name, clf in classifiers.items():\n",
    "    print(f\"\\nResults for {clf_name}:\")\n",
    "    for i, balanced_data in enumerate([balanced_data_random_under, balanced_data_random_over, balanced_data_nearmiss,balanced_data_smoteenn,balanced_data_smote]):\n",
    "        # Split the data into features and target\n",
    "        X_balanced = balanced_data[X_cols]\n",
    "        y_balanced = balanced_data[y_col]\n",
    "\n",
    "        # Split the data into training and testing sets\n",
    "        X_train, X_test, y_train, y_test = train_test_split(X_balanced, y_balanced, test_size=0.2, random_state=42)\n",
    "\n",
    "        # Train the model\n",
    "        clf.fit(X_train, y_train)\n",
    "\n",
    "        # Make predictions on the testing set\n",
    "        y_pred = clf.predict(X_test)\n",
    "\n",
    "        # Calculate accuracy\n",
    "        accuracy = accuracy_score(y_test, y_pred)\n",
    "\n",
    "        # Display the accuracy for the current sampling technique and classifier\n",
    "        print(f\"Accuracy for Sampling Technique {i + 1}: {accuracy}\")\n",
    "        \n",
    "        results_list.append({'Classifier': clf_name, 'Sampling Technique': f'Technique {i + 1}', 'Accuracy': accuracy})\n",
    "    # Convert the list to a DataFrame\n",
    "results_df = pd.DataFrame(results_list).reset_index(drop=True)\n",
    "print(results_df)"
   ]
  },
  {
   "cell_type": "code",
   "execution_count": 17,
   "id": "1448309e",
   "metadata": {
    "execution": {
     "iopub.execute_input": "2024-02-03T16:01:54.170582Z",
     "iopub.status.busy": "2024-02-03T16:01:54.169595Z",
     "iopub.status.idle": "2024-02-03T16:01:54.727854Z",
     "shell.execute_reply": "2024-02-03T16:01:54.725889Z"
    },
    "papermill": {
     "duration": 0.571879,
     "end_time": "2024-02-03T16:01:54.731269",
     "exception": false,
     "start_time": "2024-02-03T16:01:54.159390",
     "status": "completed"
    },
    "tags": []
   },
   "outputs": [
    {
     "data": {
      "image/png": "[encoded data removed]",
      "text/plain": [
       "<Figure size 1200x600 with 1 Axes>"
      ]
     },
     "metadata": {},
     "output_type": "display_data"
    }
   ],
   "source": [
    "sns.set(style=\"whitegrid\")\n",
    "\n",
    "plt.figure(figsize=(12, 6))\n",
    "sns.barplot(x=\"Sampling Technique\", y=\"Accuracy\", hue=\"Classifier\", data=results_df, palette=\"viridis\")\n",
    "\n",
    "plt.title(\"Accuracy Comparison for Different Sampling Techniques and Classifiers\")\n",
    "plt.xlabel(\"Sampling Technique\")\n",
    "plt.ylabel(\"Accuracy\")\n",
    "\n",
    "plt.show()"
   ]
  }
 ],
 "metadata": {
  "kaggle": {
   "accelerator": "none",
   "dataSources": [
    {
     "datasetId": 4393944,
     "sourceId": 7545099,
     "sourceType": "datasetVersion"
    }
   ],
   "dockerImageVersionId": 30646,
   "isGpuEnabled": false,
   "isInternetEnabled": true,
   "language": "python",
   "sourceType": "notebook"
  },
  "kernelspec": {
   "display_name": "Python 3",
   "language": "python",
   "name": "python3"
  },
  "language_info": {
   "codemirror_mode": {
    "name": "ipython",
    "version": 3
   },
   "file_extension": ".py",
   "mimetype": "text/x-python",
   "name": "python",
   "nbconvert_exporter": "python",
   "pygments_lexer": "ipython3",
   "version": "3.10.13"
  },
  "papermill": {
   "default_parameters": {},
   "duration": 12.130763,
   "end_time": "2024-02-03T16:01:55.565713",
   "environment_variables": {},
   "exception": null,
   "input_path": "__notebook__.ipynb",
   "output_path": "__notebook__.ipynb",
   "parameters": {},
   "start_time": "2024-02-03T16:01:43.434950",
   "version": "2.5.0"
  }
 },
 "nbformat": 4,
 "nbformat_minor": 5
}
