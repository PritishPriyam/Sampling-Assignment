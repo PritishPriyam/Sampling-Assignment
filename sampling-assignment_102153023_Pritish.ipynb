{
 "cells": [
  {
   "cell_type": "code",
   "execution_count": 1,
   "id": "1cc62f36",
   "metadata": {
    "_cell_guid": "b1076dfc-b9ad-4769-8c92-a6c4dae69d19",
    "_uuid": "8f2839f25d086af736a60e9eeb907d3b93b6e0e5",
    "execution": {
     "iopub.execute_input": "2024-02-03T16:05:27.619073Z",
     "iopub.status.busy": "2024-02-03T16:05:27.618440Z",
     "iopub.status.idle": "2024-02-03T16:05:30.332664Z",
     "shell.execute_reply": "2024-02-03T16:05:30.331587Z"
    },
    "papermill": {
     "duration": 2.724551,
     "end_time": "2024-02-03T16:05:30.335794",
     "exception": false,
     "start_time": "2024-02-03T16:05:27.611243",
     "status": "completed"
    },
    "tags": []
   },
   "outputs": [],
   "source": [
    "from imblearn.over_sampling import SMOTE\n",
    "from sklearn.model_selection import train_test_split\n",
    "from imblearn.under_sampling import NearMiss\n",
    "from sklearn.ensemble import RandomForestClassifier\n",
    "from sklearn.svm import SVC\n",
    "from sklearn.model_selection import train_test_split\n",
    "from sklearn.linear_model import LogisticRegression\n",
    "from sklearn.tree import DecisionTreeClassifier\n",
    "from sklearn.neighbors import KNeighborsClassifier\n",
    "import warnings\n",
    "from sklearn.metrics import accuracy_score\n",
    "warnings.filterwarnings(\"ignore\")\n",
    "\n",
    "import pandas as pd\n",
    "import matplotlib.pyplot as plt\n",
    "import seaborn as sns"
   ]
  },
  {
   "cell_type": "code",
   "execution_count": 2,
   "id": "3ce5d62a",
   "metadata": {
    "execution": {
     "iopub.execute_input": "2024-02-03T16:05:30.352485Z",
     "iopub.status.busy": "2024-02-03T16:05:30.351812Z",
     "iopub.status.idle": "2024-02-03T16:05:30.382488Z",
     "shell.execute_reply": "2024-02-03T16:05:30.381401Z"
    },
    "papermill": {
     "duration": 0.042282,
     "end_time": "2024-02-03T16:05:30.385696",
     "exception": false,
     "start_time": "2024-02-03T16:05:30.343414",
     "status": "completed"
    },
    "tags": []
   },
   "outputs": [],
   "source": [
    "df = pd.read_csv('/kaggle/input/credit-card/Creditcard_data.csv')"
   ]
  },
  {
   "cell_type": "code",
   "execution_count": 3,
   "id": "2733be0d",
   "metadata": {
    "execution": {
     "iopub.execute_input": "2024-02-03T16:05:30.400618Z",
     "iopub.status.busy": "2024-02-03T16:05:30.400152Z",
     "iopub.status.idle": "2024-02-03T16:05:30.520184Z",
     "shell.execute_reply": "2024-02-03T16:05:30.519336Z"
    },
    "papermill": {
     "duration": 0.12986,
     "end_time": "2024-02-03T16:05:30.522671",
     "exception": false,
     "start_time": "2024-02-03T16:05:30.392811",
     "status": "completed"
    },
    "tags": []
   },
   "outputs": [],
   "source": [
    "X = df.drop('Class', axis=1)\n",
    "y = df['Class']\n",
    "\n",
    "# Split the data into training and testing sets\n",
    "X_train, X_test, y_train, y_test = train_test_split(X, y, test_size=0.2, random_state=42)\n",
    "\n",
    "smote = SMOTE(sampling_strategy='auto', random_state=42)\n",
    "X_train_resampled, y_train_resampled = smote.fit_resample(X_train, y_train)"
   ]
  },
  {
   "cell_type": "code",
   "execution_count": 4,
   "id": "c4871799",
   "metadata": {
    "execution": {
     "iopub.execute_input": "2024-02-03T16:05:30.534123Z",
     "iopub.status.busy": "2024-02-03T16:05:30.533166Z",
     "iopub.status.idle": "2024-02-03T16:05:30.539345Z",
     "shell.execute_reply": "2024-02-03T16:05:30.538321Z"
    },
    "papermill": {
     "duration": 0.014572,
     "end_time": "2024-02-03T16:05:30.542135",
     "exception": false,
     "start_time": "2024-02-03T16:05:30.527563",
     "status": "completed"
    },
    "tags": []
   },
   "outputs": [],
   "source": [
    "df = pd.concat([X_train,y_train],axis = 1)"
   ]
  },
  {
   "cell_type": "code",
   "execution_count": 5,
   "id": "6f471156",
   "metadata": {
    "execution": {
     "iopub.execute_input": "2024-02-03T16:05:30.557733Z",
     "iopub.status.busy": "2024-02-03T16:05:30.556084Z",
     "iopub.status.idle": "2024-02-03T16:05:30.564709Z",
     "shell.execute_reply": "2024-02-03T16:05:30.563775Z"
    },
    "papermill": {
     "duration": 0.018006,
     "end_time": "2024-02-03T16:05:30.567155",
     "exception": false,
     "start_time": "2024-02-03T16:05:30.549149",
     "status": "completed"
    },
    "tags": []
   },
   "outputs": [],
   "source": [
    "fraudulent1 = df[df['Class'] == 1]\n",
    "non_fraudulent1 = df[df['Class'] == 0].sample(n=len(fraudulent1), random_state=42)\n",
    "\n",
    "balanced_data_random_under = pd.concat([fraudulent1, non_fraudulent1])"
   ]
  },
  {
   "cell_type": "code",
   "execution_count": 6,
   "id": "127f5a87",
   "metadata": {
    "execution": {
     "iopub.execute_input": "2024-02-03T16:05:30.577821Z",
     "iopub.status.busy": "2024-02-03T16:05:30.577462Z",
     "iopub.status.idle": "2024-02-03T16:05:30.585532Z",
     "shell.execute_reply": "2024-02-03T16:05:30.584814Z"
    },
    "papermill": {
     "duration": 0.015732,
     "end_time": "2024-02-03T16:05:30.587523",
     "exception": false,
     "start_time": "2024-02-03T16:05:30.571791",
     "status": "completed"
    },
    "tags": []
   },
   "outputs": [],
   "source": [
    "fraudulent2 = df[df['Class'] == 1]\n",
    "non_fraudulent2 = df[df['Class'] == 0]\n",
    "\n",
    "fraudulent_over = fraudulent2.sample(n=len(non_fraudulent2), replace=True, random_state=42)\n",
    "\n",
    "balanced_data_random_over = pd.concat([fraudulent_over, non_fraudulent2])"
   ]
  },
  {
   "cell_type": "code",
   "execution_count": 7,
   "id": "b8bbb7c0",
   "metadata": {
    "execution": {
     "iopub.execute_input": "2024-02-03T16:05:30.598169Z",
     "iopub.status.busy": "2024-02-03T16:05:30.597832Z",
     "iopub.status.idle": "2024-02-03T16:05:30.685892Z",
     "shell.execute_reply": "2024-02-03T16:05:30.685000Z"
    },
    "papermill": {
     "duration": 0.09627,
     "end_time": "2024-02-03T16:05:30.688298",
     "exception": false,
     "start_time": "2024-02-03T16:05:30.592028",
     "status": "completed"
    },
    "tags": []
   },
   "outputs": [],
   "source": [
    "X = df.drop('Class', axis=1)\n",
    "y = df['Class']\n",
    "\n",
    "nm = NearMiss(sampling_strategy='auto')\n",
    "X_resampled, y_resampled = nm.fit_resample(X, y)\n",
    "\n",
    "balanced_data_nearmiss = pd.concat([pd.DataFrame(X_resampled, columns=X.columns), pd.Series(y_resampled, name='Class')], axis=1)"
   ]
  },
  {
   "cell_type": "code",
   "execution_count": 8,
   "id": "5bb5d02d",
   "metadata": {
    "execution": {
     "iopub.execute_input": "2024-02-03T16:05:30.699302Z",
     "iopub.status.busy": "2024-02-03T16:05:30.698881Z",
     "iopub.status.idle": "2024-02-03T16:05:30.751657Z",
     "shell.execute_reply": "2024-02-03T16:05:30.750863Z"
    },
    "papermill": {
     "duration": 0.061078,
     "end_time": "2024-02-03T16:05:30.753986",
     "exception": false,
     "start_time": "2024-02-03T16:05:30.692908",
     "status": "completed"
    },
    "tags": []
   },
   "outputs": [],
   "source": [
    "from imblearn.over_sampling import SMOTE\n",
    "\n",
    "X = df.drop('Class', axis=1)\n",
    "y = df['Class']\n",
    "\n",
    "smote = SMOTE(sampling_strategy='auto', random_state=42)\n",
    "X_resampled, y_resampled = smote.fit_resample(X, y)\n",
    "\n",
    "balanced_data_smote = pd.concat([pd.DataFrame(X_resampled, columns=X.columns), pd.Series(y_resampled, name='Class')], axis=1)"
   ]
  },
  {
   "cell_type": "code",
   "execution_count": 9,
   "id": "7f86d5e4",
   "metadata": {
    "execution": {
     "iopub.execute_input": "2024-02-03T16:05:30.765141Z",
     "iopub.status.busy": "2024-02-03T16:05:30.764447Z",
     "iopub.status.idle": "2024-02-03T16:05:30.850721Z",
     "shell.execute_reply": "2024-02-03T16:05:30.849932Z"
    },
    "papermill": {
     "duration": 0.094384,
     "end_time": "2024-02-03T16:05:30.852987",
     "exception": false,
     "start_time": "2024-02-03T16:05:30.758603",
     "status": "completed"
    },
    "tags": []
   },
   "outputs": [],
   "source": [
    "from imblearn.combine import SMOTEENN\n",
    "\n",
    "X = df.drop('Class', axis=1)\n",
    "y = df['Class']\n",
    "\n",
    "smoteenn = SMOTEENN(sampling_strategy='auto', random_state=42)\n",
    "X_resampled, y_resampled = smoteenn.fit_resample(X, y)\n",
    "\n",
    "balanced_data_smoteenn = pd.concat([pd.DataFrame(X_resampled, columns=X.columns), pd.Series(y_resampled, name='Class')], axis=1)\n"
   ]
  },
  {
   "cell_type": "code",
   "execution_count": 10,
   "id": "2c00f66b",
   "metadata": {
    "execution": {
     "iopub.execute_input": "2024-02-03T16:05:30.863868Z",
     "iopub.status.busy": "2024-02-03T16:05:30.863181Z",
     "iopub.status.idle": "2024-02-03T16:05:30.868294Z",
     "shell.execute_reply": "2024-02-03T16:05:30.867314Z"
    },
    "papermill": {
     "duration": 0.012774,
     "end_time": "2024-02-03T16:05:30.870384",
     "exception": false,
     "start_time": "2024-02-03T16:05:30.857610",
     "status": "completed"
    },
    "tags": []
   },
   "outputs": [],
   "source": [
    "# Feature columns and target column\n",
    "X_cols = df.columns[:-1]  # Assuming the last column is the target column\n",
    "y_col = 'Class'\n",
    "\n",
    "# Initialize the model\n",
    "model = LogisticRegression(random_state=42)\n",
    "\n",
    "# List to store accuracy scores for each technique\n",
    "accuracy_scores = []\n"
   ]
  },
  {
   "cell_type": "code",
   "execution_count": 11,
   "id": "4f9e6d20",
   "metadata": {
    "execution": {
     "iopub.execute_input": "2024-02-03T16:05:30.881346Z",
     "iopub.status.busy": "2024-02-03T16:05:30.880404Z",
     "iopub.status.idle": "2024-02-03T16:05:30.897090Z",
     "shell.execute_reply": "2024-02-03T16:05:30.896303Z"
    },
    "papermill": {
     "duration": 0.024308,
     "end_time": "2024-02-03T16:05:30.899116",
     "exception": false,
     "start_time": "2024-02-03T16:05:30.874808",
     "status": "completed"
    },
    "tags": []
   },
   "outputs": [],
   "source": [
    "from imblearn.over_sampling import SMOTE\n",
    "\n",
    "X = df.drop('Class', axis=1)\n",
    "y = df['Class']\n",
    "\n",
    "smote = SMOTE(sampling_strategy='auto', random_state=42)\n",
    "X_resampled, y_resampled = smote.fit_resample(X, y)\n",
    "\n",
    "balanced_data_smote = pd.concat([pd.DataFrame(X_resampled, columns=X.columns), pd.Series(y_resampled, name='Class')], axis=1)"
   ]
  },
  {
   "cell_type": "code",
   "execution_count": 12,
   "id": "21dd118c",
   "metadata": {
    "execution": {
     "iopub.execute_input": "2024-02-03T16:05:30.909792Z",
     "iopub.status.busy": "2024-02-03T16:05:30.909153Z",
     "iopub.status.idle": "2024-02-03T16:05:30.936408Z",
     "shell.execute_reply": "2024-02-03T16:05:30.935580Z"
    },
    "papermill": {
     "duration": 0.034972,
     "end_time": "2024-02-03T16:05:30.938616",
     "exception": false,
     "start_time": "2024-02-03T16:05:30.903644",
     "status": "completed"
    },
    "tags": []
   },
   "outputs": [],
   "source": [
    "from imblearn.combine import SMOTEENN\n",
    "\n",
    "X = df.drop('Class', axis=1)\n",
    "y = df['Class']\n",
    "\n",
    "smoteenn = SMOTEENN(sampling_strategy='auto', random_state=42)\n",
    "X_resampled, y_resampled = smoteenn.fit_resample(X, y)\n",
    "\n",
    "balanced_data_smoteenn = pd.concat([pd.DataFrame(X_resampled, columns=X.columns), pd.Series(y_resampled, name='Class')], axis=1)"
   ]
  },
  {
   "cell_type": "code",
   "execution_count": 13,
   "id": "035ff67c",
   "metadata": {
    "execution": {
     "iopub.execute_input": "2024-02-03T16:05:30.950051Z",
     "iopub.status.busy": "2024-02-03T16:05:30.949509Z",
     "iopub.status.idle": "2024-02-03T16:05:31.143293Z",
     "shell.execute_reply": "2024-02-03T16:05:31.142186Z"
    },
    "papermill": {
     "duration": 0.203171,
     "end_time": "2024-02-03T16:05:31.146405",
     "exception": false,
     "start_time": "2024-02-03T16:05:30.943234",
     "status": "completed"
    },
    "tags": []
   },
   "outputs": [
    {
     "name": "stdout",
     "output_type": "stream",
     "text": [
      "Accuracy for Sampling Technique 1: 0.75\n",
      "Accuracy for Sampling Technique 2: 0.9344262295081968\n",
      "Accuracy for Sampling Technique 3: 0.25\n",
      "Accuracy for Sampling Technique 4: 0.9659090909090909\n",
      "Accuracy for Sampling Technique 5: 0.9221311475409836\n"
     ]
    }
   ],
   "source": [
    "# Iterate over each balanced dataset\n",
    "for balanced_data in [balanced_data_random_under, balanced_data_random_over, balanced_data_nearmiss,balanced_data_smoteenn,balanced_data_smote]:\n",
    "    # Split the data into features and target\n",
    "    X_balanced = balanced_data[X_cols]\n",
    "    y_balanced = balanced_data[y_col]\n",
    "\n",
    "    # Split the data into training and testing sets\n",
    "    X_train, X_test, y_train, y_test = train_test_split(X_balanced, y_balanced, test_size=0.2, random_state=42)\n",
    "\n",
    "    # Train the model\n",
    "    model.fit(X_train, y_train)\n",
    "\n",
    "    # Make predictions on the testing set\n",
    "    y_pred = model.predict(X_test)\n",
    "\n",
    "    # Calculate accuracy and store it in the list\n",
    "    accuracy = accuracy_score(y_test, y_pred)\n",
    "    accuracy_scores.append(accuracy)\n",
    "\n",
    "# Display the accuracy scores for each sampling technique\n",
    "for i, score in enumerate(accuracy_scores):\n",
    "    print(f\"Accuracy for Sampling Technique {i + 1}: {score}\")"
   ]
  },
  {
   "cell_type": "code",
   "execution_count": 14,
   "id": "677c508e",
   "metadata": {
    "execution": {
     "iopub.execute_input": "2024-02-03T16:05:31.165291Z",
     "iopub.status.busy": "2024-02-03T16:05:31.163703Z",
     "iopub.status.idle": "2024-02-03T16:05:31.170431Z",
     "shell.execute_reply": "2024-02-03T16:05:31.169313Z"
    },
    "papermill": {
     "duration": 0.019072,
     "end_time": "2024-02-03T16:05:31.173364",
     "exception": false,
     "start_time": "2024-02-03T16:05:31.154292",
     "status": "completed"
    },
    "tags": []
   },
   "outputs": [],
   "source": [
    "X_cols = df.columns[:-1]  # Assuming the last column is the target column\n",
    "y_col = 'Class'\n"
   ]
  },
  {
   "cell_type": "code",
   "execution_count": 15,
   "id": "43af7b55",
   "metadata": {
    "execution": {
     "iopub.execute_input": "2024-02-03T16:05:31.191907Z",
     "iopub.status.busy": "2024-02-03T16:05:31.191386Z",
     "iopub.status.idle": "2024-02-03T16:05:31.198364Z",
     "shell.execute_reply": "2024-02-03T16:05:31.197212Z"
    },
    "papermill": {
     "duration": 0.019454,
     "end_time": "2024-02-03T16:05:31.201179",
     "exception": false,
     "start_time": "2024-02-03T16:05:31.181725",
     "status": "completed"
    },
    "tags": []
   },
   "outputs": [],
   "source": [
    "classifiers = {\n",
    "    'Logistic Regression': LogisticRegression(random_state=42),\n",
    "    'Random Forest': RandomForestClassifier(random_state=42),\n",
    "    'SVM': SVC(random_state=42),\n",
    "    'Decision Tree': DecisionTreeClassifier(random_state=42),\n",
    "    'K-Nearest Neighbors': KNeighborsClassifier()\n",
    "}"
   ]
  },
  {
   "cell_type": "code",
   "execution_count": 16,
   "id": "8c7c400f",
   "metadata": {
    "execution": {
     "iopub.execute_input": "2024-02-03T16:05:31.220365Z",
     "iopub.status.busy": "2024-02-03T16:05:31.219809Z",
     "iopub.status.idle": "2024-02-03T16:05:33.099215Z",
     "shell.execute_reply": "2024-02-03T16:05:33.098165Z"
    },
    "papermill": {
     "duration": 1.892416,
     "end_time": "2024-02-03T16:05:33.101548",
     "exception": false,
     "start_time": "2024-02-03T16:05:31.209132",
     "status": "completed"
    },
    "tags": []
   },
   "outputs": [
    {
     "name": "stdout",
     "output_type": "stream",
     "text": [
      "\n",
      "Results for Logistic Regression:\n",
      "Accuracy for Sampling Technique 1: 0.75\n",
      "Accuracy for Sampling Technique 2: 0.9344262295081968\n",
      "Accuracy for Sampling Technique 3: 0.25\n",
      "Accuracy for Sampling Technique 4: 0.9659090909090909\n",
      "Accuracy for Sampling Technique 5: 0.9221311475409836\n",
      "\n",
      "Results for Random Forest:\n",
      "Accuracy for Sampling Technique 1: 0.5\n",
      "Accuracy for Sampling Technique 2: 1.0\n",
      "Accuracy for Sampling Technique 3: 0.75\n",
      "Accuracy for Sampling Technique 4: 0.9943181818181818\n",
      "Accuracy for Sampling Technique 5: 0.9959016393442623\n",
      "\n",
      "Results for SVM:\n",
      "Accuracy for Sampling Technique 1: 0.75\n",
      "Accuracy for Sampling Technique 2: 0.7295081967213115\n",
      "Accuracy for Sampling Technique 3: 0.25\n",
      "Accuracy for Sampling Technique 4: 0.7613636363636364\n",
      "Accuracy for Sampling Technique 5: 0.680327868852459\n",
      "\n",
      "Results for Decision Tree:\n",
      "Accuracy for Sampling Technique 1: 0.75\n",
      "Accuracy for Sampling Technique 2: 0.9836065573770492\n",
      "Accuracy for Sampling Technique 3: 0.5\n",
      "Accuracy for Sampling Technique 4: 0.9715909090909091\n",
      "Accuracy for Sampling Technique 5: 0.9713114754098361\n",
      "\n",
      "Results for K-Nearest Neighbors:\n",
      "Accuracy for Sampling Technique 1: 0.75\n",
      "Accuracy for Sampling Technique 2: 0.9836065573770492\n",
      "Accuracy for Sampling Technique 3: 1.0\n",
      "Accuracy for Sampling Technique 4: 0.9715909090909091\n",
      "Accuracy for Sampling Technique 5: 0.7704918032786885\n",
      "             Classifier Sampling Technique  Accuracy\n",
      "0   Logistic Regression        Technique 1  0.750000\n",
      "1   Logistic Regression        Technique 2  0.934426\n",
      "2   Logistic Regression        Technique 3  0.250000\n",
      "3   Logistic Regression        Technique 4  0.965909\n",
      "4   Logistic Regression        Technique 5  0.922131\n",
      "5         Random Forest        Technique 1  0.500000\n",
      "6         Random Forest        Technique 2  1.000000\n",
      "7         Random Forest        Technique 3  0.750000\n",
      "8         Random Forest        Technique 4  0.994318\n",
      "9         Random Forest        Technique 5  0.995902\n",
      "10                  SVM        Technique 1  0.750000\n",
      "11                  SVM        Technique 2  0.729508\n",
      "12                  SVM        Technique 3  0.250000\n",
      "13                  SVM        Technique 4  0.761364\n",
      "14                  SVM        Technique 5  0.680328\n",
      "15        Decision Tree        Technique 1  0.750000\n",
      "16        Decision Tree        Technique 2  0.983607\n",
      "17        Decision Tree        Technique 3  0.500000\n",
      "18        Decision Tree        Technique 4  0.971591\n",
      "19        Decision Tree        Technique 5  0.971311\n",
      "20  K-Nearest Neighbors        Technique 1  0.750000\n",
      "21  K-Nearest Neighbors        Technique 2  0.983607\n",
      "22  K-Nearest Neighbors        Technique 3  1.000000\n",
      "23  K-Nearest Neighbors        Technique 4  0.971591\n",
      "24  K-Nearest Neighbors        Technique 5  0.770492\n"
     ]
    }
   ],
   "source": [
    "results_list = []\n",
    "for clf_name, clf in classifiers.items():\n",
    "    print(f\"\\nResults for {clf_name}:\")\n",
    "    for i, balanced_data in enumerate([balanced_data_random_under, balanced_data_random_over, balanced_data_nearmiss,balanced_data_smoteenn,balanced_data_smote]):\n",
    "        # Split the data into features and target\n",
    "        X_balanced = balanced_data[X_cols]\n",
    "        y_balanced = balanced_data[y_col]\n",
    "\n",
    "        # Split the data into training and testing sets\n",
    "        X_train, X_test, y_train, y_test = train_test_split(X_balanced, y_balanced, test_size=0.2, random_state=42)\n",
    "\n",
    "        # Train the model\n",
    "        clf.fit(X_train, y_train)\n",
    "\n",
    "        # Make predictions on the testing set\n",
    "        y_pred = clf.predict(X_test)\n",
    "\n",
    "        # Calculate accuracy\n",
    "        accuracy = accuracy_score(y_test, y_pred)\n",
    "\n",
    "        # Display the accuracy for the current sampling technique and classifier\n",
    "        print(f\"Accuracy for Sampling Technique {i + 1}: {accuracy}\")\n",
    "        \n",
    "        results_list.append({'Classifier': clf_name, 'Sampling Technique': f'Technique {i + 1}', 'Accuracy': accuracy})\n",
    "    # Convert the list to a DataFrame\n",
    "results_df = pd.DataFrame(results_list).reset_index(drop=True)\n",
    "print(results_df)"
   ]
  },
  {
   "cell_type": "code",
   "execution_count": 17,
   "id": "cdddc09f",
   "metadata": {
    "execution": {
     "iopub.execute_input": "2024-02-03T16:05:33.115085Z",
     "iopub.status.busy": "2024-02-03T16:05:33.114427Z",
     "iopub.status.idle": "2024-02-03T16:05:33.609546Z",
     "shell.execute_reply": "2024-02-03T16:05:33.608351Z"
    },
    "papermill": {
     "duration": 0.504999,
     "end_time": "2024-02-03T16:05:33.612038",
     "exception": false,
     "start_time": "2024-02-03T16:05:33.107039",
     "status": "completed"
    },
    "tags": []
   },
   "outputs": [
    {
     "data": {
      "image/png": "[encoded data removed]",
      "text/plain": [
       "<Figure size 1200x600 with 1 Axes>"
      ]
     },
     "metadata": {},
     "output_type": "display_data"
    }
   ],
   "source": [
    "sns.set(style=\"whitegrid\")\n",
    "\n",
    "plt.figure(figsize=(12, 6))\n",
    "sns.barplot(x=\"Sampling Technique\", y=\"Accuracy\", hue=\"Classifier\", data=results_df, palette=\"viridis\")\n",
    "\n",
    "plt.title(\"Accuracy Comparison for Different Sampling Techniques and Classifiers\")\n",
    "plt.xlabel(\"Sampling Technique\")\n",
    "plt.ylabel(\"Accuracy\")\n",
    "\n",
    "plt.show()"
   ]
  }
 ],
 "metadata": {
  "kaggle": {
   "accelerator": "none",
   "dataSources": [
    {
     "datasetId": 4393944,
     "sourceId": 7545099,
     "sourceType": "datasetVersion"
    }
   ],
   "dockerImageVersionId": 30646,
   "isGpuEnabled": false,
   "isInternetEnabled": true,
   "language": "python",
   "sourceType": "notebook"
  },
  "kernelspec": {
   "display_name": "Python 3",
   "language": "python",
   "name": "python3"
  },
  "language_info": {
   "codemirror_mode": {
    "name": "ipython",
    "version": 3
   },
   "file_extension": ".py",
   "mimetype": "text/x-python",
   "name": "python",
   "nbconvert_exporter": "python",
   "pygments_lexer": "ipython3",
   "version": "3.10.13"
  },
  "papermill": {
   "default_parameters": {},
   "duration": 9.300045,
   "end_time": "2024-02-03T16:05:34.237859",
   "environment_variables": {},
   "exception": null,
   "input_path": "__notebook__.ipynb",
   "output_path": "__notebook__.ipynb",
   "parameters": {},
   "start_time": "2024-02-03T16:05:24.937814",
   "version": "2.5.0"
  }
 },
 "nbformat": 4,
 "nbformat_minor": 5
}
