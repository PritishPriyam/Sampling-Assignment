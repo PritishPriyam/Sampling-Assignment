{
 "cells": [
  {
   "cell_type": "code",
   "execution_count": 1,
   "id": "49a537bf",
   "metadata": {
    "_cell_guid": "b1076dfc-b9ad-4769-8c92-a6c4dae69d19",
    "_uuid": "8f2839f25d086af736a60e9eeb907d3b93b6e0e5",
    "execution": {
     "iopub.execute_input": "2024-02-03T15:58:29.582629Z",
     "iopub.status.busy": "2024-02-03T15:58:29.581681Z",
     "iopub.status.idle": "2024-02-03T15:58:32.630701Z",
     "shell.execute_reply": "2024-02-03T15:58:32.629694Z"
    },
    "papermill": {
     "duration": 3.061583,
     "end_time": "2024-02-03T15:58:32.633525",
     "exception": false,
     "start_time": "2024-02-03T15:58:29.571942",
     "status": "completed"
    },
    "tags": []
   },
   "outputs": [],
   "source": [
    "from imblearn.over_sampling import SMOTE\n",
    "from sklearn.model_selection import train_test_split\n",
    "from imblearn.under_sampling import NearMiss\n",
    "from sklearn.ensemble import RandomForestClassifier\n",
    "from sklearn.svm import SVC\n",
    "from sklearn.model_selection import train_test_split\n",
    "from sklearn.linear_model import LogisticRegression\n",
    "import warnings\n",
    "from sklearn.metrics import accuracy_score\n",
    "warnings.filterwarnings(\"ignore\")\n",
    "\n",
    "import pandas as pd\n",
    "import matplotlib.pyplot as plt\n",
    "import seaborn as sns"
   ]
  },
  {
   "cell_type": "code",
   "execution_count": 2,
   "id": "5a3fad26",
   "metadata": {
    "execution": {
     "iopub.execute_input": "2024-02-03T15:58:32.647640Z",
     "iopub.status.busy": "2024-02-03T15:58:32.646415Z",
     "iopub.status.idle": "2024-02-03T15:58:32.685608Z",
     "shell.execute_reply": "2024-02-03T15:58:32.684412Z"
    },
    "papermill": {
     "duration": 0.04863,
     "end_time": "2024-02-03T15:58:32.688261",
     "exception": false,
     "start_time": "2024-02-03T15:58:32.639631",
     "status": "completed"
    },
    "tags": []
   },
   "outputs": [],
   "source": [
    "df = pd.read_csv('/kaggle/input/credit-card/Creditcard_data.csv')"
   ]
  },
  {
   "cell_type": "code",
   "execution_count": 3,
   "id": "c14953ee",
   "metadata": {
    "execution": {
     "iopub.execute_input": "2024-02-03T15:58:32.702273Z",
     "iopub.status.busy": "2024-02-03T15:58:32.701468Z",
     "iopub.status.idle": "2024-02-03T15:58:32.788647Z",
     "shell.execute_reply": "2024-02-03T15:58:32.787621Z"
    },
    "papermill": {
     "duration": 0.0971,
     "end_time": "2024-02-03T15:58:32.791388",
     "exception": false,
     "start_time": "2024-02-03T15:58:32.694288",
     "status": "completed"
    },
    "tags": []
   },
   "outputs": [],
   "source": [
    "X = df.drop('Class', axis=1)\n",
    "y = df['Class']\n",
    "\n",
    "# Split the data into training and testing sets\n",
    "X_train, X_test, y_train, y_test = train_test_split(X, y, test_size=0.2, random_state=42)\n",
    "\n",
    "smote = SMOTE(sampling_strategy='auto', random_state=42)\n",
    "X_train_resampled, y_train_resampled = smote.fit_resample(X_train, y_train)"
   ]
  },
  {
   "cell_type": "code",
   "execution_count": 4,
   "id": "123f5cba",
   "metadata": {
    "execution": {
     "iopub.execute_input": "2024-02-03T15:58:32.807551Z",
     "iopub.status.busy": "2024-02-03T15:58:32.806334Z",
     "iopub.status.idle": "2024-02-03T15:58:32.812842Z",
     "shell.execute_reply": "2024-02-03T15:58:32.811933Z"
    },
    "papermill": {
     "duration": 0.016794,
     "end_time": "2024-02-03T15:58:32.815183",
     "exception": false,
     "start_time": "2024-02-03T15:58:32.798389",
     "status": "completed"
    },
    "tags": []
   },
   "outputs": [],
   "source": [
    "df = pd.concat([X_train,y_train],axis = 1)"
   ]
  },
  {
   "cell_type": "code",
   "execution_count": 5,
   "id": "19bdf083",
   "metadata": {
    "execution": {
     "iopub.execute_input": "2024-02-03T15:58:32.828265Z",
     "iopub.status.busy": "2024-02-03T15:58:32.827867Z",
     "iopub.status.idle": "2024-02-03T15:58:32.837142Z",
     "shell.execute_reply": "2024-02-03T15:58:32.836257Z"
    },
    "papermill": {
     "duration": 0.018547,
     "end_time": "2024-02-03T15:58:32.839468",
     "exception": false,
     "start_time": "2024-02-03T15:58:32.820921",
     "status": "completed"
    },
    "tags": []
   },
   "outputs": [],
   "source": [
    "fraudulent1 = df[df['Class'] == 1]\n",
    "non_fraudulent1 = df[df['Class'] == 0].sample(n=len(fraudulent1), random_state=42)\n",
    "\n",
    "balanced_data_random_under = pd.concat([fraudulent1, non_fraudulent1])"
   ]
  },
  {
   "cell_type": "code",
   "execution_count": 6,
   "id": "630e4a5e",
   "metadata": {
    "execution": {
     "iopub.execute_input": "2024-02-03T15:58:32.852804Z",
     "iopub.status.busy": "2024-02-03T15:58:32.852459Z",
     "iopub.status.idle": "2024-02-03T15:58:32.861256Z",
     "shell.execute_reply": "2024-02-03T15:58:32.860382Z"
    },
    "papermill": {
     "duration": 0.01822,
     "end_time": "2024-02-03T15:58:32.863556",
     "exception": false,
     "start_time": "2024-02-03T15:58:32.845336",
     "status": "completed"
    },
    "tags": []
   },
   "outputs": [],
   "source": [
    "fraudulent2 = df[df['Class'] == 1]\n",
    "non_fraudulent2 = df[df['Class'] == 0]\n",
    "\n",
    "fraudulent_over = fraudulent2.sample(n=len(non_fraudulent2), replace=True, random_state=42)\n",
    "\n",
    "balanced_data_random_over = pd.concat([fraudulent_over, non_fraudulent2])"
   ]
  },
  {
   "cell_type": "code",
   "execution_count": 7,
   "id": "b7e7380a",
   "metadata": {
    "execution": {
     "iopub.execute_input": "2024-02-03T15:58:32.876905Z",
     "iopub.status.busy": "2024-02-03T15:58:32.876549Z",
     "iopub.status.idle": "2024-02-03T15:58:32.897430Z",
     "shell.execute_reply": "2024-02-03T15:58:32.896349Z"
    },
    "papermill": {
     "duration": 0.031187,
     "end_time": "2024-02-03T15:58:32.900534",
     "exception": false,
     "start_time": "2024-02-03T15:58:32.869347",
     "status": "completed"
    },
    "tags": []
   },
   "outputs": [],
   "source": [
    "X = df.drop('Class', axis=1)\n",
    "y = df['Class']\n",
    "\n",
    "nm = NearMiss(sampling_strategy='auto')\n",
    "X_resampled, y_resampled = nm.fit_resample(X, y)\n",
    "\n",
    "balanced_data_nearmiss = pd.concat([pd.DataFrame(X_resampled, columns=X.columns), pd.Series(y_resampled, name='Class')], axis=1)"
   ]
  },
  {
   "cell_type": "code",
   "execution_count": 8,
   "id": "c15c23a1",
   "metadata": {
    "execution": {
     "iopub.execute_input": "2024-02-03T15:58:32.914587Z",
     "iopub.status.busy": "2024-02-03T15:58:32.914189Z",
     "iopub.status.idle": "2024-02-03T15:58:32.919736Z",
     "shell.execute_reply": "2024-02-03T15:58:32.918659Z"
    },
    "papermill": {
     "duration": 0.01543,
     "end_time": "2024-02-03T15:58:32.922535",
     "exception": false,
     "start_time": "2024-02-03T15:58:32.907105",
     "status": "completed"
    },
    "tags": []
   },
   "outputs": [],
   "source": [
    "# Feature columns and target column\n",
    "X_cols = df.columns[:-1]  # Assuming the last column is the target column\n",
    "y_col = 'Class'\n",
    "\n",
    "# Initialize the model\n",
    "model = LogisticRegression(random_state=42)\n",
    "\n",
    "# List to store accuracy scores for each technique\n",
    "accuracy_scores = []\n"
   ]
  },
  {
   "cell_type": "code",
   "execution_count": 9,
   "id": "548f067f",
   "metadata": {
    "execution": {
     "iopub.execute_input": "2024-02-03T15:58:32.935770Z",
     "iopub.status.busy": "2024-02-03T15:58:32.935201Z",
     "iopub.status.idle": "2024-02-03T15:58:32.955344Z",
     "shell.execute_reply": "2024-02-03T15:58:32.954433Z"
    },
    "papermill": {
     "duration": 0.029653,
     "end_time": "2024-02-03T15:58:32.958002",
     "exception": false,
     "start_time": "2024-02-03T15:58:32.928349",
     "status": "completed"
    },
    "tags": []
   },
   "outputs": [],
   "source": [
    "from imblearn.over_sampling import SMOTE\n",
    "\n",
    "X = df.drop('Class', axis=1)\n",
    "y = df['Class']\n",
    "\n",
    "smote = SMOTE(sampling_strategy='auto', random_state=42)\n",
    "X_resampled, y_resampled = smote.fit_resample(X, y)\n",
    "\n",
    "balanced_data_smote = pd.concat([pd.DataFrame(X_resampled, columns=X.columns), pd.Series(y_resampled, name='Class')], axis=1)"
   ]
  },
  {
   "cell_type": "code",
   "execution_count": 10,
   "id": "e36f289a",
   "metadata": {
    "execution": {
     "iopub.execute_input": "2024-02-03T15:58:32.972571Z",
     "iopub.status.busy": "2024-02-03T15:58:32.971517Z",
     "iopub.status.idle": "2024-02-03T15:58:33.009621Z",
     "shell.execute_reply": "2024-02-03T15:58:33.008569Z"
    },
    "papermill": {
     "duration": 0.047918,
     "end_time": "2024-02-03T15:58:33.012418",
     "exception": false,
     "start_time": "2024-02-03T15:58:32.964500",
     "status": "completed"
    },
    "tags": []
   },
   "outputs": [],
   "source": [
    "from imblearn.combine import SMOTEENN\n",
    "\n",
    "X = df.drop('Class', axis=1)\n",
    "y = df['Class']\n",
    "\n",
    "smoteenn = SMOTEENN(sampling_strategy='auto', random_state=42)\n",
    "X_resampled, y_resampled = smoteenn.fit_resample(X, y)\n",
    "\n",
    "balanced_data_smoteenn = pd.concat([pd.DataFrame(X_resampled, columns=X.columns), pd.Series(y_resampled, name='Class')], axis=1)"
   ]
  },
  {
   "cell_type": "code",
   "execution_count": 11,
   "id": "bb897217",
   "metadata": {
    "execution": {
     "iopub.execute_input": "2024-02-03T15:58:33.026746Z",
     "iopub.status.busy": "2024-02-03T15:58:33.025646Z",
     "iopub.status.idle": "2024-02-03T15:58:33.298964Z",
     "shell.execute_reply": "2024-02-03T15:58:33.297481Z"
    },
    "papermill": {
     "duration": 0.285366,
     "end_time": "2024-02-03T15:58:33.304048",
     "exception": false,
     "start_time": "2024-02-03T15:58:33.018682",
     "status": "completed"
    },
    "tags": []
   },
   "outputs": [
    {
     "name": "stdout",
     "output_type": "stream",
     "text": [
      "Accuracy for Sampling Technique 1: 0.75\n",
      "Accuracy for Sampling Technique 2: 0.9344262295081968\n",
      "Accuracy for Sampling Technique 3: 0.25\n",
      "Accuracy for Sampling Technique 4: 0.9659090909090909\n",
      "Accuracy for Sampling Technique 5: 0.9221311475409836\n"
     ]
    }
   ],
   "source": [
    "# Iterate over each balanced dataset\n",
    "for balanced_data in [balanced_data_random_under, balanced_data_random_over, balanced_data_nearmiss,balanced_data_smoteenn,balanced_data_smote]:\n",
    "    # Split the data into features and target\n",
    "    X_balanced = balanced_data[X_cols]\n",
    "    y_balanced = balanced_data[y_col]\n",
    "\n",
    "    # Split the data into training and testing sets\n",
    "    X_train, X_test, y_train, y_test = train_test_split(X_balanced, y_balanced, test_size=0.2, random_state=42)\n",
    "\n",
    "    # Train the model\n",
    "    model.fit(X_train, y_train)\n",
    "\n",
    "    # Make predictions on the testing set\n",
    "    y_pred = model.predict(X_test)\n",
    "\n",
    "    # Calculate accuracy and store it in the list\n",
    "    accuracy = accuracy_score(y_test, y_pred)\n",
    "    accuracy_scores.append(accuracy)\n",
    "\n",
    "# Display the accuracy scores for each sampling technique\n",
    "for i, score in enumerate(accuracy_scores):\n",
    "    print(f\"Accuracy for Sampling Technique {i + 1}: {score}\")"
   ]
  },
  {
   "cell_type": "code",
   "execution_count": 12,
   "id": "95ec5a52",
   "metadata": {
    "execution": {
     "iopub.execute_input": "2024-02-03T15:58:33.331089Z",
     "iopub.status.busy": "2024-02-03T15:58:33.330406Z",
     "iopub.status.idle": "2024-02-03T15:58:33.341893Z",
     "shell.execute_reply": "2024-02-03T15:58:33.340381Z"
    },
    "papermill": {
     "duration": 0.030461,
     "end_time": "2024-02-03T15:58:33.346808",
     "exception": false,
     "start_time": "2024-02-03T15:58:33.316347",
     "status": "completed"
    },
    "tags": []
   },
   "outputs": [],
   "source": [
    "X_cols = df.columns[:-1]  # Assuming the last column is the target column\n",
    "y_col = 'Class'\n"
   ]
  },
  {
   "cell_type": "code",
   "execution_count": 13,
   "id": "5e5692b5",
   "metadata": {
    "execution": {
     "iopub.execute_input": "2024-02-03T15:58:33.374186Z",
     "iopub.status.busy": "2024-02-03T15:58:33.373553Z",
     "iopub.status.idle": "2024-02-03T15:58:33.385557Z",
     "shell.execute_reply": "2024-02-03T15:58:33.384066Z"
    },
    "papermill": {
     "duration": 0.031358,
     "end_time": "2024-02-03T15:58:33.390268",
     "exception": false,
     "start_time": "2024-02-03T15:58:33.358910",
     "status": "completed"
    },
    "tags": []
   },
   "outputs": [],
   "source": [
    "classifiers = {\n",
    "    'Logistic Regression': LogisticRegression(random_state=42),\n",
    "    'Random Forest': RandomForestClassifier(random_state=42),\n",
    "    'SVM': SVC(random_state=42)\n",
    "}"
   ]
  },
  {
   "cell_type": "code",
   "execution_count": 14,
   "id": "09b732c5",
   "metadata": {
    "execution": {
     "iopub.execute_input": "2024-02-03T15:58:33.413460Z",
     "iopub.status.busy": "2024-02-03T15:58:33.413067Z",
     "iopub.status.idle": "2024-02-03T15:58:34.456610Z",
     "shell.execute_reply": "2024-02-03T15:58:34.455178Z"
    },
    "papermill": {
     "duration": 1.056959,
     "end_time": "2024-02-03T15:58:34.459197",
     "exception": false,
     "start_time": "2024-02-03T15:58:33.402238",
     "status": "completed"
    },
    "tags": []
   },
   "outputs": [
    {
     "name": "stdout",
     "output_type": "stream",
     "text": [
      "\n",
      "Results for Logistic Regression:\n",
      "Accuracy for Sampling Technique 1: 0.75\n",
      "Accuracy for Sampling Technique 2: 0.9344262295081968\n",
      "Accuracy for Sampling Technique 3: 0.25\n",
      "\n",
      "Results for Random Forest:\n",
      "Accuracy for Sampling Technique 1: 0.5\n",
      "Accuracy for Sampling Technique 2: 1.0\n",
      "Accuracy for Sampling Technique 3: 0.75\n",
      "\n",
      "Results for SVM:\n",
      "Accuracy for Sampling Technique 1: 0.75\n",
      "Accuracy for Sampling Technique 2: 0.7295081967213115\n",
      "Accuracy for Sampling Technique 3: 0.25\n",
      "            Classifier Sampling Technique  Accuracy\n",
      "0  Logistic Regression        Technique 1  0.750000\n",
      "1  Logistic Regression        Technique 2  0.934426\n",
      "2  Logistic Regression        Technique 3  0.250000\n",
      "3        Random Forest        Technique 1  0.500000\n",
      "4        Random Forest        Technique 2  1.000000\n",
      "5        Random Forest        Technique 3  0.750000\n",
      "6                  SVM        Technique 1  0.750000\n",
      "7                  SVM        Technique 2  0.729508\n",
      "8                  SVM        Technique 3  0.250000\n"
     ]
    }
   ],
   "source": [
    "results_list = []\n",
    "for clf_name, clf in classifiers.items():\n",
    "    print(f\"\\nResults for {clf_name}:\")\n",
    "    for i, balanced_data in enumerate([balanced_data_random_under, balanced_data_random_over, balanced_data_nearmiss]):\n",
    "        # Split the data into features and target\n",
    "        X_balanced = balanced_data[X_cols]\n",
    "        y_balanced = balanced_data[y_col]\n",
    "\n",
    "        # Split the data into training and testing sets\n",
    "        X_train, X_test, y_train, y_test = train_test_split(X_balanced, y_balanced, test_size=0.2, random_state=42)\n",
    "\n",
    "        # Train the model\n",
    "        clf.fit(X_train, y_train)\n",
    "\n",
    "        # Make predictions on the testing set\n",
    "        y_pred = clf.predict(X_test)\n",
    "\n",
    "        # Calculate accuracy\n",
    "        accuracy = accuracy_score(y_test, y_pred)\n",
    "\n",
    "        # Display the accuracy for the current sampling technique and classifier\n",
    "        print(f\"Accuracy for Sampling Technique {i + 1}: {accuracy}\")\n",
    "        \n",
    "        results_list.append({'Classifier': clf_name, 'Sampling Technique': f'Technique {i + 1}', 'Accuracy': accuracy})\n",
    "    # Convert the list to a DataFrame\n",
    "results_df = pd.DataFrame(results_list).reset_index(drop=True)\n",
    "print(results_df)"
   ]
  },
  {
   "cell_type": "code",
   "execution_count": 15,
   "id": "b611f76c",
   "metadata": {
    "execution": {
     "iopub.execute_input": "2024-02-03T15:58:34.473747Z",
     "iopub.status.busy": "2024-02-03T15:58:34.473377Z",
     "iopub.status.idle": "2024-02-03T15:58:34.837775Z",
     "shell.execute_reply": "2024-02-03T15:58:34.836731Z"
    },
    "papermill": {
     "duration": 0.374851,
     "end_time": "2024-02-03T15:58:34.840448",
     "exception": false,
     "start_time": "2024-02-03T15:58:34.465597",
     "status": "completed"
    },
    "tags": []
   },
   "outputs": [
    {
     "data": {
      "image/png": "[encoded data removed]",
      "text/plain": [
       "<Figure size 1200x600 with 1 Axes>"
      ]
     },
     "metadata": {},
     "output_type": "display_data"
    }
   ],
   "source": [
    "sns.set(style=\"whitegrid\")\n",
    "\n",
    "plt.figure(figsize=(12, 6))\n",
    "sns.barplot(x=\"Sampling Technique\", y=\"Accuracy\", hue=\"Classifier\", data=results_df, palette=\"viridis\")\n",
    "\n",
    "plt.title(\"Accuracy Comparison for Different Sampling Techniques and Classifiers\")\n",
    "plt.xlabel(\"Sampling Technique\")\n",
    "plt.ylabel(\"Accuracy\")\n",
    "\n",
    "plt.show()"
   ]
  }
 ],
 "metadata": {
  "kaggle": {
   "accelerator": "none",
   "dataSources": [
    {
     "datasetId": 4393944,
     "sourceId": 7545099,
     "sourceType": "datasetVersion"
    }
   ],
   "dockerImageVersionId": 30646,
   "isGpuEnabled": false,
   "isInternetEnabled": true,
   "language": "python",
   "sourceType": "notebook"
  },
  "kernelspec": {
   "display_name": "Python 3",
   "language": "python",
   "name": "python3"
  },
  "language_info": {
   "codemirror_mode": {
    "name": "ipython",
    "version": 3
   },
   "file_extension": ".py",
   "mimetype": "text/x-python",
   "name": "python",
   "nbconvert_exporter": "python",
   "pygments_lexer": "ipython3",
   "version": "3.10.13"
  },
  "papermill": {
   "default_parameters": {},
   "duration": 8.928643,
   "end_time": "2024-02-03T15:58:35.470731",
   "environment_variables": {},
   "exception": null,
   "input_path": "__notebook__.ipynb",
   "output_path": "__notebook__.ipynb",
   "parameters": {},
   "start_time": "2024-02-03T15:58:26.542088",
   "version": "2.5.0"
  }
 },
 "nbformat": 4,
 "nbformat_minor": 5
}
